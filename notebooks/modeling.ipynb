{
 "cells": [
  {
   "cell_type": "markdown",
   "metadata": {},
   "source": [
    "### Anomaly Detection Modeling\n",
    "\n",
    "We use Isolation Forest to detect anomalous behavior in the synthetic telemetry dataset.  \n",
    "The model is trained on normalized multi-feature input, including derived features such as rolling statistics, FFT, lags, and correlations.\n"
   ]
  },
  {
   "cell_type": "code",
   "execution_count": null,
   "metadata": {
    "vscode": {
     "languageId": "plaintext"
    }
   },
   "outputs": [],
   "source": [
    "from src.generate_data import generate_synthetic_telemetry\n",
    "from src.preprocess import normalize_data\n",
    "from sklearn.ensemble import IsolationForest\n",
    "from sklearn.model_selection import train_test_split\n",
    "import matplotlib.pyplot as plt\n",
    "import pandas as pd\n",
    "import numpy as np\n",
    "\n",
    "# Load and augment data\n",
    "df = generate_synthetic_telemetry()\n",
    "\n",
    "# Feature engineering (same as in feature-engineering.ipynb)\n",
    "df['cpu_rolling_mean'] = df['cpu'].rolling(window=20).mean()\n",
    "df['cpu_rolling_std'] = df['cpu'].rolling(window=20).std()\n",
    "df['latency_diff'] = df['latency'].diff()\n",
    "df['errors_rolling_sum'] = df['errors'].rolling(window=10).sum()\n",
    "\n",
    "from scipy.fft import fft\n",
    "from scipy.stats import zscore\n",
    "df['latency_fft_mean'] = pd.Series(\n",
    "    [np.mean(np.abs(fft(df['latency'][i:i+64]))) if i+64 < len(df) else np.nan for i in range(len(df))]\n",
    ")\n",
    "df['cpu_z'] = zscore(df['cpu'], nan_policy='omit')\n",
    "df['latency_z'] = zscore(df['latency'], nan_policy='omit')\n",
    "df['cpu_lag1'] = df['cpu'].shift(1)\n",
    "df['latency_lag3'] = df['latency'].shift(3)\n",
    "df['errors_lag2'] = df['errors'].shift(2)\n",
    "df['latency_cpu_corr_20'] = df['latency'].rolling(window=20).corr(df['cpu'])\n",
    "\n",
    "# Drop rows with NaNs (from rolling/lags)\n",
    "df_clean = df.dropna()\n",
    "\n",
    "# Normalize\n",
    "df_norm = normalize_data(df_clean)\n",
    "\n",
    "# Train-test split\n",
    "X_train, X_test = train_test_split(df_norm, test_size=0.2, random_state=42)\n",
    "\n",
    "# Train model\n",
    "model = IsolationForest(contamination=0.05, random_state=42)\n",
    "model.fit(X_train)\n",
    "\n",
    "# Predict\n",
    "scores = model.decision_function(df_norm)\n",
    "labels = model.predict(df_norm)  # -1 = anomaly, 1 = normal\n",
    "\n",
    "# Plot\n",
    "plt.figure(figsize=(12,4))\n",
    "plt.plot(scores, label='Anomaly Score')\n",
    "plt.fill_between(range(len(scores)), min(scores), max(scores), where=(labels==-1), color='red', alpha=0.3, label='Detected Anomaly')\n",
    "plt.title(\"Isolation Forest Anomaly Detection\")\n",
    "plt.legend()\n",
    "plt.grid()\n",
    "plt.show()\n"
   ]
  },
  {
   "cell_type": "markdown",
   "metadata": {},
   "source": [
    "Red-shaded areas indicate time windows classified as anomalous by the model.  \n",
    "Note that these align with injected anomalies in the synthetic data, such as:\n",
    "- Sudden CPU spikes\n",
    "- Burst of error logs\n",
    "- Latency jumps\n"
   ]
  }
 ],
 "metadata": {
  "language_info": {
   "name": "python"
  }
 },
 "nbformat": 4,
 "nbformat_minor": 2
}
