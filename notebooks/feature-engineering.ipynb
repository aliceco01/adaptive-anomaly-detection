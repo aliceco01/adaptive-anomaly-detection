{
 "cells": [
  {
   "cell_type": "code",
   "execution_count": null,
   "metadata": {
    "vscode": {
     "languageId": "plaintext"
    }
   },
   "outputs": [],
   "source": [
    "#  load synthetic telemetry and create engineered features\n",
    "import pandas as pd\n",
    "import numpy as np\n",
    "import matplotlib.pyplot as plt\n",
    "from src.generate_data import generate_synthetic_telemetry\n",
    "from src.preprocess import normalize_data\n",
    "\n",
    "# Load data\n",
    "df = generate_synthetic_telemetry()\n",
    "df_norm = normalize_data(df)\n",
    "\n",
    "# Add rolling statistics\n",
    "df['cpu_rolling_mean'] = df['cpu'].rolling(window=20).mean()\n",
    "df['cpu_rolling_std'] = df['cpu'].rolling(window=20).std()\n",
    "\n",
    "df['latency_diff'] = df['latency'].diff()\n",
    "df['errors_rolling_sum'] = df['errors'].rolling(window=10).sum()\n",
    "\n",
    "# Visualize\n",
    "fig, ax = plt.subplots(3, 1, figsize=(12, 8))\n",
    "df['cpu_rolling_mean'].plot(ax=ax[0], title='Rolling Mean (CPU)')\n",
    "df['cpu_rolling_std'].plot(ax=ax[1], title='Rolling Std (CPU)', color='orange')\n",
    "df['errors_rolling_sum'].plot(ax=ax[2], title='Rolling Error Count', color='red')\n",
    "plt.tight_layout()\n",
    "plt.show()\n"
   ]
  },
  {
   "cell_type": "markdown",
   "metadata": {},
   "source": [
    "### Advanced Feature Engineering\n",
    "\n",
    "This section includes more advanced transformations for capturing cross-modal dynamics and temporal patterns:\n",
    "\n",
    "- **FFT Mean**: Highlights dominant frequency components in latency to reveal periodic patterns.\n",
    "- **Z-Scores**: Measures how far a value deviates from the mean — useful for flagging local outliers.\n",
    "- **Lag Features**: Shifts variables backward to capture temporal dependencies (e.g., cause-effect relationships).\n",
    "- **Rolling Correlation**: Tracks how strongly two signals are correlated over time.\n"
   ]
  },
  {
   "cell_type": "code",
   "execution_count": null,
   "metadata": {
    "vscode": {
     "languageId": "plaintext"
    }
   },
   "outputs": [],
   "source": [
    "from scipy.fft import fft\n",
    "from scipy.stats import zscore\n",
    "\n",
    "# FFT over latency — compute mean magnitude of frequency spectrum over sliding windows\n",
    "def compute_fft_feature(series, window=64, step=1):\n",
    "    fft_features = []\n",
    "    for i in range(0, len(series) - window, step):\n",
    "        segment = series[i:i + window]\n",
    "        fft_vals = np.abs(fft(segment))[:window // 2]\n",
    "        fft_features.append(np.mean(fft_vals))\n",
    "    padding = [np.nan] * (len(series) - len(fft_features))\n",
    "    return pd.Series(fft_features + padding)\n",
    "\n",
    "df['latency_fft_mean'] = compute_fft_feature(df['latency'])\n",
    "\n",
    "# Z-scores to capture how extreme each point is compared to the global distribution\n",
    "df['cpu_z'] = zscore(df['cpu'], nan_policy='omit')\n",
    "df['latency_z'] = zscore(df['latency'], nan_policy='omit')\n",
    "\n",
    "# Lag features — capturing temporal causality\n",
    "df['cpu_lag1'] = df['cpu'].shift(1)\n",
    "df['latency_lag3'] = df['latency'].shift(3)\n",
    "df['errors_lag2'] = df['errors'].shift(2)\n",
    "\n",
    "# Rolling correlation between latency and CPU (window=20)\n",
    "df['latency_cpu_corr_20'] = df['latency'].rolling(window=20).corr(df['cpu'])\n"
   ]
  },
  {
   "cell_type": "markdown",
   "metadata": {},
   "source": [
    "### Feature Visualizations\n",
    "\n",
    "We plot selected engineered features to visually inspect how they might help with anomaly detection:\n",
    "\n",
    "- FFT highlights bursts or irregular patterns in latency.\n",
    "- Rolling correlation breakdowns can signal functional decoupling between metrics.\n",
    "- Z-scores flag values that are far from the norm.\n"
   ]
  },
  {
   "cell_type": "code",
   "execution_count": null,
   "metadata": {
    "vscode": {
     "languageId": "plaintext"
    }
   },
   "outputs": [],
   "source": [
    "fig, ax = plt.subplots(3, 1, figsize=(12, 8))\n",
    "\n",
    "df['latency_fft_mean'].plot(ax=ax[0], title='Latency FFT Mean')\n",
    "df['latency_cpu_corr_20'].plot(ax=ax[1], title='Rolling Correlation: Latency vs CPU')\n",
    "df['cpu_z'].plot(ax=ax[2], title='Z-Score of CPU Usage', color='green')\n",
    "\n",
    "plt.tight_layout()\n",
    "plt.show()\n"
   ]
  }
 ],
 "metadata": {
  "language_info": {
   "name": "python"
  }
 },
 "nbformat": 4,
 "nbformat_minor": 2
}
